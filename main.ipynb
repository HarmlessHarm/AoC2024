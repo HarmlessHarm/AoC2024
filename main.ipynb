{
 "cells": [
  {
   "cell_type": "code",
   "execution_count": 2,
   "metadata": {},
   "outputs": [],
   "source": [
    "%load_ext autoreload\n",
    "%autoreload 2"
   ]
  },
  {
   "cell_type": "code",
   "execution_count": null,
   "metadata": {},
   "outputs": [],
   "source": []
  },
  {
   "cell_type": "markdown",
   "metadata": {},
   "source": [
    "#### Generate new day\n",
    "use `create_new_day_folder(DAY NUMBER)`"
   ]
  },
  {
   "cell_type": "code",
   "execution_count": 18,
   "metadata": {},
   "outputs": [
    {
     "name": "stdout",
     "output_type": "stream",
     "text": [
      "Folder days/day_01 created successfully.\n"
     ]
    }
   ],
   "source": [
    "import os\n",
    "import shutil\n",
    "\n",
    "def create_new_day_folder(day_number):\n",
    "    template_folder = 'days/TEMPLATE'\n",
    "    new_folder = f'days/day_{day_number:02d}'\n",
    "    \n",
    "    if not os.path.exists(new_folder):\n",
    "        shutil.copytree(template_folder, new_folder)\n",
    "        print(f'Folder {new_folder} created successfully.')\n",
    "    else:\n",
    "        print(f'Folder {new_folder} already exists.')\n",
    "\n",
    "\n",
    "create_new_day_folder(1)"
   ]
  },
  {
   "cell_type": "markdown",
   "metadata": {},
   "source": [
    "#### Day 01"
   ]
  },
  {
   "cell_type": "code",
   "execution_count": 50,
   "metadata": {},
   "outputs": [
    {
     "name": "stdout",
     "output_type": "stream",
     "text": [
      "================================\n",
      "testA\n",
      "\n",
      "input:\n",
      "3   4\n",
      "4   3\n",
      "2   5\n",
      "1   3\n",
      "3   9\n",
      "3   3\n",
      "\n",
      "assert:\n",
      "11 == 11\n",
      "================================\n"
     ]
    }
   ],
   "source": [
    "from days.day_01.test import test_puzzleA, test_puzzleB\n",
    "from days.day_01.solve import solve_puzzleA, solve_puzzleB\n",
    "\n",
    "test_puzzleA(11)\n",
    "solve_puzzleA()"
   ]
  },
  {
   "cell_type": "code",
   "execution_count": null,
   "metadata": {},
   "outputs": [],
   "source": []
  },
  {
   "cell_type": "code",
   "execution_count": null,
   "metadata": {},
   "outputs": [],
   "source": []
  }
 ],
 "metadata": {
  "kernelspec": {
   "display_name": ".venv",
   "language": "python",
   "name": "python3"
  },
  "language_info": {
   "codemirror_mode": {
    "name": "ipython",
    "version": 3
   },
   "file_extension": ".py",
   "mimetype": "text/x-python",
   "name": "python",
   "nbconvert_exporter": "python",
   "pygments_lexer": "ipython3",
   "version": "3.13.1"
  }
 },
 "nbformat": 4,
 "nbformat_minor": 2
}
