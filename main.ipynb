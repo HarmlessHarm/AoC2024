{
 "cells": [
  {
   "cell_type": "markdown",
   "metadata": {},
   "source": [
    "#### Generate new day\n",
    "use `create_new_day_folder(DAY NUMBER)`"
   ]
  },
  {
   "cell_type": "code",
   "execution_count": 3,
   "metadata": {},
   "outputs": [
    {
     "name": "stdout",
     "output_type": "stream",
     "text": [
      "Folder days/day_01 created successfully.\n"
     ]
    }
   ],
   "source": [
    "import os\n",
    "import shutil\n",
    "\n",
    "def create_new_day_folder(day_number):\n",
    "    template_folder = 'days/TEMPLATE'\n",
    "    new_folder = f'days/day_{day_number:02d}'\n",
    "    \n",
    "    if not os.path.exists(new_folder):\n",
    "        shutil.copytree(template_folder, new_folder)\n",
    "        print(f'Folder {new_folder} created successfully.')\n",
    "    else:\n",
    "        print(f'Folder {new_folder} already exists.')\n",
    "\n",
    "\n",
    "create_new_day_folder(1)"
   ]
  },
  {
   "cell_type": "markdown",
   "metadata": {},
   "source": [
    "#### Day 01"
   ]
  },
  {
   "cell_type": "code",
   "execution_count": 12,
   "metadata": {},
   "outputs": [
    {
     "name": "stdout",
     "output_type": "stream",
     "text": [
      "Input file at inputs/testA.txt not found.\n"
     ]
    },
    {
     "ename": "AssertionError",
     "evalue": "",
     "output_type": "error",
     "traceback": [
      "\u001b[1;31m---------------------------------------------------------------------------\u001b[0m",
      "\u001b[1;31mAssertionError\u001b[0m                            Traceback (most recent call last)",
      "Cell \u001b[1;32mIn[12], line 3\u001b[0m\n\u001b[0;32m      1\u001b[0m \u001b[38;5;28;01mfrom\u001b[39;00m \u001b[38;5;21;01mdays\u001b[39;00m\u001b[38;5;21;01m.\u001b[39;00m\u001b[38;5;21;01mTEMPLATE\u001b[39;00m \u001b[38;5;28;01mimport\u001b[39;00m test\n\u001b[1;32m----> 3\u001b[0m \u001b[43mtest\u001b[49m\u001b[38;5;241;43m.\u001b[39;49m\u001b[43mrun_tests\u001b[49m\u001b[43m(\u001b[49m\u001b[43m)\u001b[49m\n",
      "File \u001b[1;32mc:\\Users\\mander012\\Documents\\AoC2024\\days\\TEMPLATE\\test.py:18\u001b[0m, in \u001b[0;36mrun_tests\u001b[1;34m()\u001b[0m\n\u001b[0;32m     17\u001b[0m \u001b[38;5;28;01mdef\u001b[39;00m \u001b[38;5;21mrun_tests\u001b[39m():\n\u001b[1;32m---> 18\u001b[0m     \u001b[43mtest_puzzleA\u001b[49m\u001b[43m(\u001b[49m\u001b[43m)\u001b[49m\n\u001b[0;32m     19\u001b[0m     test_puzzleB()\n",
      "File \u001b[1;32mc:\\Users\\mander012\\Documents\\AoC2024\\days\\TEMPLATE\\test.py:9\u001b[0m, in \u001b[0;36mtest_puzzleA\u001b[1;34m()\u001b[0m\n\u001b[0;32m      6\u001b[0m testA_data \u001b[38;5;241m=\u001b[39m read_input(\u001b[38;5;124m'\u001b[39m\u001b[38;5;124minputs/testA.txt\u001b[39m\u001b[38;5;124m'\u001b[39m)\n\u001b[0;32m      7\u001b[0m testA_sol \u001b[38;5;241m=\u001b[39m \u001b[38;5;124m\"\u001b[39m\u001b[38;5;124m\"\u001b[39m\n\u001b[1;32m----> 9\u001b[0m \u001b[38;5;28;01massert\u001b[39;00m puzzleA(testA_data) \u001b[38;5;241m==\u001b[39m testA_sol\n",
      "\u001b[1;31mAssertionError\u001b[0m: "
     ]
    }
   ],
   "source": [
    "from days.TEMPLATE import test\n",
    "\n",
    "test.run_tests()"
   ]
  },
  {
   "cell_type": "code",
   "execution_count": null,
   "metadata": {},
   "outputs": [],
   "source": []
  }
 ],
 "metadata": {
  "kernelspec": {
   "display_name": ".venv",
   "language": "python",
   "name": "python3"
  },
  "language_info": {
   "codemirror_mode": {
    "name": "ipython",
    "version": 3
   },
   "file_extension": ".py",
   "mimetype": "text/x-python",
   "name": "python",
   "nbconvert_exporter": "python",
   "pygments_lexer": "ipython3",
   "version": "3.13.1"
  }
 },
 "nbformat": 4,
 "nbformat_minor": 2
}
