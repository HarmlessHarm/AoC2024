{
 "cells": [
  {
   "cell_type": "code",
   "execution_count": 2,
   "metadata": {},
   "outputs": [],
   "source": [
    "%load_ext autoreload\n",
    "%autoreload 2"
   ]
  },
  {
   "cell_type": "code",
   "execution_count": null,
   "metadata": {},
   "outputs": [],
   "source": []
  },
  {
   "cell_type": "markdown",
   "metadata": {},
   "source": [
    "#### Generate new day\n",
    "use `create_new_day_folder(DAY NUMBER)`"
   ]
  },
  {
   "cell_type": "code",
   "execution_count": 64,
   "metadata": {},
   "outputs": [
    {
     "name": "stdout",
     "output_type": "stream",
     "text": [
      "Folder days/day_02 created successfully.\n"
     ]
    }
   ],
   "source": [
    "import os\n",
    "import shutil\n",
    "\n",
    "def create_new_day_folder(day_number):\n",
    "    template_folder = 'days/TEMPLATE'\n",
    "    new_folder = f'days/day_{day_number:02d}'\n",
    "    \n",
    "    if not os.path.exists(new_folder):\n",
    "        shutil.copytree(template_folder, new_folder)\n",
    "        print(f'Folder {new_folder} created successfully.')\n",
    "    else:\n",
    "        print(f'Folder {new_folder} already exists.')\n",
    "\n",
    "\n",
    "create_new_day_folder(2)"
   ]
  },
  {
   "cell_type": "markdown",
   "metadata": {},
   "source": [
    "#### Day 01"
   ]
  },
  {
   "cell_type": "code",
   "execution_count": 107,
   "metadata": {},
   "outputs": [
    {
     "name": "stdout",
     "output_type": "stream",
     "text": [
      "================================\n",
      "testA\n",
      "\n",
      "input:\n",
      "3   4\n",
      "4   3\n",
      "2   5\n",
      "1   3\n",
      "3   9\n",
      "3   3\n",
      "\n",
      "assert:\n",
      "11 == 11\n",
      "\n",
      "testA: OK!\n",
      "================================\n",
      "\n",
      "================================\n",
      "puzzleA\n",
      "\n",
      "puzzleA: 1388114\n",
      "================================\n",
      "\n",
      "================================\n",
      "testB\n",
      "\n",
      "input:\n",
      "3   4\n",
      "4   3\n",
      "2   5\n",
      "1   3\n",
      "3   9\n",
      "3   3\n",
      "\n",
      "assert:\n",
      "31 == 31\n",
      "\n",
      "testB: OK!\n",
      "================================\n",
      "\n",
      "================================\n",
      "puzzleB\n",
      "\n",
      "puzzleB: 23529853\n",
      "================================\n",
      "\n"
     ]
    }
   ],
   "source": [
    "from days.day_01.test import test_puzzleA, test_puzzleB, solve_puzzleA, solve_puzzleB\n",
    "\n",
    "test_puzzleA(11)\n",
    "solve_puzzleA()\n",
    "test_puzzleB(31)\n",
    "solve_puzzleB()"
   ]
  },
  {
   "cell_type": "markdown",
   "metadata": {},
   "source": [
    "### Day 02"
   ]
  },
  {
   "cell_type": "code",
   "execution_count": null,
   "metadata": {},
   "outputs": [
    {
     "name": "stdout",
     "output_type": "stream",
     "text": [
      "[1, 5, 6, 7, 8] False\n",
      "[1, 5, 6, 7, 8] False\n",
      "[1, 5, 6, 7, 8] False\n",
      "[1, 5, 6, 7, 8] False\n",
      "[1, 5, 6, 7, 8] False\n",
      "[1, 3, 6, 7, 99] False\n",
      "[1, 3, 6, 7, 99] False\n",
      "[1, 3, 6, 7, 99] False\n",
      "[1, 3, 6, 7, 99] False\n",
      "[1, 3, 6, 7, 99] False\n",
      "[1, 2, 7, 8, 9] False\n",
      "[1, 2, 7, 8, 9] False\n",
      "[1, 2, 7, 8, 9] False\n",
      "[1, 2, 7, 8, 9] False\n",
      "[1, 2, 7, 8, 9] False\n",
      "[9, 7, 6, 2, 1] False\n",
      "[9, 7, 6, 2, 1] False\n",
      "[9, 7, 6, 2, 1] False\n",
      "[9, 7, 6, 2, 1] False\n",
      "[9, 7, 6, 2, 1] False\n",
      "[1, 3, 2, 4, 5] False\n",
      "[1, 3, 2, 4, 5] False\n",
      "[1, 3, 2, 4, 5] False\n",
      "[1, 3, 2, 4, 5] False\n",
      "[1, 3, 2, 4, 5] False\n",
      "[8, 6, 4, 4, 1] False\n",
      "[8, 6, 4, 4, 1] False\n",
      "[8, 6, 4, 4, 1] False\n",
      "[8, 6, 4, 4, 1] False\n",
      "[8, 6, 4, 4, 1] False\n",
      "================================\n",
      "testB\n",
      "\n",
      "input:\n",
      "7 6 4 2 1\n",
      "1 2 7 8 9\n",
      "9 7 6 2 1\n",
      "1 3 2 4 5\n",
      "8 6 4 4 1\n",
      "1 3 6 7 9\n",
      "\n",
      "assert:\n",
      "4 == 2\n",
      "\n"
     ]
    },
    {
     "ename": "AssertionError",
     "evalue": "testB: 2 != 4",
     "output_type": "error",
     "traceback": [
      "\u001b[1;31m---------------------------------------------------------------------------\u001b[0m",
      "\u001b[1;31mAssertionError\u001b[0m                            Traceback (most recent call last)",
      "Cell \u001b[1;32mIn[165], line 14\u001b[0m\n\u001b[0;32m     10\u001b[0m puzzleB(data)\n\u001b[0;32m     12\u001b[0m \u001b[38;5;66;03m# test_puzzleA(2)\u001b[39;00m\n\u001b[0;32m     13\u001b[0m \u001b[38;5;66;03m# solve_puzzleA()\u001b[39;00m\n\u001b[1;32m---> 14\u001b[0m \u001b[43mtest_puzzleB\u001b[49m\u001b[43m(\u001b[49m\u001b[38;5;241;43m4\u001b[39;49m\u001b[43m)\u001b[49m\n\u001b[0;32m     15\u001b[0m solve_puzzleB()\n",
      "File \u001b[1;32mc:\\Users\\mander012\\Documents\\AoC2024\\days\\day_02\\test.py:28\u001b[0m, in \u001b[0;36mtest_puzzleB\u001b[1;34m(solution)\u001b[0m\n\u001b[0;32m     27\u001b[0m \u001b[38;5;28;01mdef\u001b[39;00m \u001b[38;5;21mtest_puzzleB\u001b[39m(solution):\n\u001b[1;32m---> 28\u001b[0m     \u001b[43mtest\u001b[49m\u001b[43m(\u001b[49m\u001b[43mpuzzleB\u001b[49m\u001b[43m,\u001b[49m\u001b[43m \u001b[49m\u001b[38;5;124;43m'\u001b[39;49m\u001b[38;5;124;43minputs/testB.txt\u001b[39;49m\u001b[38;5;124;43m'\u001b[39;49m\u001b[43m,\u001b[49m\u001b[43m \u001b[49m\u001b[43msolution\u001b[49m\u001b[43m)\u001b[49m\n",
      "File \u001b[1;32mc:\\Users\\mander012\\Documents\\AoC2024\\days\\day_02\\test.py:17\u001b[0m, in \u001b[0;36mtest\u001b[1;34m(puzzle, file, solution)\u001b[0m\n\u001b[0;32m     15\u001b[0m     \u001b[38;5;28mprint\u001b[39m(\u001b[38;5;124m\"\u001b[39m\u001b[38;5;124massert:\u001b[39m\u001b[38;5;124m\"\u001b[39m)\n\u001b[0;32m     16\u001b[0m     \u001b[38;5;28mprint\u001b[39m(\u001b[38;5;124mf\u001b[39m\u001b[38;5;124m\"\u001b[39m\u001b[38;5;132;01m{\u001b[39;00msolution\u001b[38;5;132;01m}\u001b[39;00m\u001b[38;5;124m == \u001b[39m\u001b[38;5;132;01m{\u001b[39;00mtest_result\u001b[38;5;132;01m}\u001b[39;00m\u001b[38;5;124m\"\u001b[39m, end\u001b[38;5;241m=\u001b[39m\u001b[38;5;124m\"\u001b[39m\u001b[38;5;130;01m\\n\u001b[39;00m\u001b[38;5;130;01m\\n\u001b[39;00m\u001b[38;5;124m\"\u001b[39m)\n\u001b[1;32m---> 17\u001b[0m     \u001b[38;5;28;01massert\u001b[39;00m test_result \u001b[38;5;241m==\u001b[39m solution, \u001b[38;5;124mf\u001b[39m\u001b[38;5;124m\"\u001b[39m\u001b[38;5;132;01m{\u001b[39;00mtest_name\u001b[38;5;132;01m}\u001b[39;00m\u001b[38;5;124m: \u001b[39m\u001b[38;5;132;01m{\u001b[39;00mtest_result\u001b[38;5;132;01m}\u001b[39;00m\u001b[38;5;124m != \u001b[39m\u001b[38;5;132;01m{\u001b[39;00msolution\u001b[38;5;132;01m}\u001b[39;00m\u001b[38;5;124m\"\u001b[39m\n\u001b[0;32m     19\u001b[0m     \u001b[38;5;28mprint\u001b[39m(\u001b[38;5;124mf\u001b[39m\u001b[38;5;124m\"\u001b[39m\u001b[38;5;132;01m{\u001b[39;00mtest_name\u001b[38;5;132;01m}\u001b[39;00m\u001b[38;5;124m: OK!\u001b[39m\u001b[38;5;124m\"\u001b[39m)\n\u001b[0;32m     20\u001b[0m \u001b[38;5;28;01melse\u001b[39;00m:\n",
      "\u001b[1;31mAssertionError\u001b[0m: testB: 2 != 4"
     ]
    }
   ],
   "source": [
    "from days.day_02.test import test_puzzleA, test_puzzleB, solve_puzzleA, solve_puzzleB\n",
    "from days.day_02.solve import reportIsSafe, puzzleB\n",
    "\n",
    "data = \"\"\"\\\n",
    "1 5 6 7 8\n",
    "1 3 6 7 99\n",
    "3 5 6 7 8\\\n",
    "\"\"\"\n",
    "\n",
    "# puzzleB(data)\n",
    "\n",
    "# test_puzzleA(2)\n",
    "# solve_puzzleA()\n",
    "test_puzzleB(4)\n",
    "solve_puzzleB()\n"
   ]
  },
  {
   "cell_type": "code",
   "execution_count": null,
   "metadata": {},
   "outputs": [],
   "source": []
  },
  {
   "cell_type": "code",
   "execution_count": null,
   "metadata": {},
   "outputs": [],
   "source": []
  }
 ],
 "metadata": {
  "kernelspec": {
   "display_name": ".venv",
   "language": "python",
   "name": "python3"
  },
  "language_info": {
   "codemirror_mode": {
    "name": "ipython",
    "version": 3
   },
   "file_extension": ".py",
   "mimetype": "text/x-python",
   "name": "python",
   "nbconvert_exporter": "python",
   "pygments_lexer": "ipython3",
   "version": "3.13.1"
  }
 },
 "nbformat": 4,
 "nbformat_minor": 2
}
